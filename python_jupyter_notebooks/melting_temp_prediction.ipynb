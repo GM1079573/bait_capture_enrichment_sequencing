{
 "cells": [
  {
   "cell_type": "markdown",
   "metadata": {},
   "source": [
    "### Melting temperature"
   ]
  },
  {
   "cell_type": "code",
   "execution_count": 1,
   "metadata": {},
   "outputs": [
    {
     "name": "stdout",
     "output_type": "stream",
     "text": [
      "Breslauer et al. (1986):                 70.04 °C\n",
      "Sugimoto et al. (1996):                  57.20 °C\n",
      "Allawi & SantaLucia (1997) (default):    54.57 °C\n",
      "SantaLucia & Hicks (2004):               54.41 °C\n"
     ]
    }
   ],
   "source": [
    "from Bio.SeqUtils import MeltingTemp as mt\n",
    "from Bio.Seq import Seq\n",
    "\n",
    "# Example to try out different algorithms\n",
    "# 5'-AAAAACCCCCGGGGGTTTTT-3'\n",
    "#\n",
    "# 3'-TTTTTGGGGGCCCCCAAAAA-5'\n",
    "\n",
    "print(\n",
    "    \"Breslauer et al. (1986):                 %0.2f °C\"\n",
    "    % mt.Tm_NN(\n",
    "        \"AAAAACCCCCGGGGGTTTTT\", c_seq=\"TTTTTGGGGGCCCCCAAAAA\", nn_table=mt.DNA_NN1\n",
    "    )\n",
    ")  # values from Breslauer et al. (1986)\n",
    "print(\n",
    "    \"Sugimoto et al. (1996):                  %0.2f °C\"\n",
    "    % mt.Tm_NN(\n",
    "        \"AAAAACCCCCGGGGGTTTTT\", c_seq=\"TTTTTGGGGGCCCCCAAAAA\", nn_table=mt.DNA_NN2\n",
    "    )\n",
    ")  # values from Sugimoto et al. (1996)\n",
    "print(\n",
    "    \"Allawi & SantaLucia (1997) (default):    %0.2f °C\"\n",
    "    % mt.Tm_NN(\n",
    "        \"AAAAACCCCCGGGGGTTTTT\", c_seq=\"TTTTTGGGGGCCCCCAAAAA\", nn_table=mt.DNA_NN3\n",
    "    )\n",
    ")  # values from Allawi & SantaLucia (1997) (default)\n",
    "print(\n",
    "    \"SantaLucia & Hicks (2004):               %0.2f °C\"\n",
    "    % mt.Tm_NN(\n",
    "        \"AAAAACCCCCGGGGGTTTTT\", c_seq=\"TTTTTGGGGGCCCCCAAAAA\", nn_table=mt.DNA_NN4\n",
    "    )\n",
    ")  # values from SantaLucia & Hicks (2004)"
   ]
  },
  {
   "cell_type": "code",
   "execution_count": 2,
   "metadata": {},
   "outputs": [
    {
     "name": "stdout",
     "output_type": "stream",
     "text": [
      "\n",
      "50 AT melting temp: 53.84 °C\n",
      "\n",
      "50 GC melting temp: 92.72 °C\n",
      "\n",
      "25 AT then 25 GC melting temp: 72.30 °C\n",
      "---\n",
      "50 AT melting temp:                                              53.84 °C\n",
      "50 AT, one mismatch melting temp (GC heuristic):                 66.00 °C\n",
      "50 AT, one mismatch melting temp (thermodynamic):                52.04 °C\n",
      "---\n",
      "50 AT melting temp:                                              53.84 °C\n",
      "50 AT, two separate mismatches melting temp (GC heuristic):      64.00 °C\n",
      "50 AT, two separate mismatches melting temp (thermodynamic):     50.07 °C\n",
      "---\n",
      "50 AT melting temp:                                              53.84 °C\n",
      "50 AT, two immediate mismatches melting temp (GC heuristic):     64.00 °C\n"
     ]
    },
    {
     "ename": "ValueError",
     "evalue": "no thermodynamic data for neighbors 'AA/GG' available",
     "output_type": "error",
     "traceback": [
      "\u001b[0;31m---------------------------------------------------------------------------\u001b[0m",
      "\u001b[0;31mValueError\u001b[0m                                Traceback (most recent call last)",
      "Cell \u001b[0;32mIn[2], line 73\u001b[0m\n\u001b[1;32m     63\u001b[0m \u001b[38;5;28mprint\u001b[39m(\n\u001b[1;32m     64\u001b[0m     \u001b[38;5;124m\"\u001b[39m\u001b[38;5;124m50 AT melting temp:                                              \u001b[39m\u001b[38;5;132;01m%0.2f\u001b[39;00m\u001b[38;5;124m °C\u001b[39m\u001b[38;5;124m\"\u001b[39m\n\u001b[1;32m     65\u001b[0m     \u001b[38;5;241m%\u001b[39m mt\u001b[38;5;241m.\u001b[39mTm_NN(at_1, c_seq\u001b[38;5;241m=\u001b[39mat_2)\n\u001b[1;32m     66\u001b[0m )\n\u001b[1;32m     67\u001b[0m \u001b[38;5;28mprint\u001b[39m(\n\u001b[1;32m     68\u001b[0m     \u001b[38;5;124m\"\u001b[39m\u001b[38;5;124m50 AT, two immediate mismatches melting temp (GC heuristic):     \u001b[39m\u001b[38;5;132;01m%0.2f\u001b[39;00m\u001b[38;5;124m °C\u001b[39m\u001b[38;5;124m\"\u001b[39m\n\u001b[1;32m     69\u001b[0m     \u001b[38;5;241m%\u001b[39m mt\u001b[38;5;241m.\u001b[39mTm_GC(at_two_mismatch_x, valueset\u001b[38;5;241m=\u001b[39m\u001b[38;5;241m2\u001b[39m)\n\u001b[1;32m     70\u001b[0m )\n\u001b[1;32m     71\u001b[0m \u001b[38;5;28mprint\u001b[39m(\n\u001b[1;32m     72\u001b[0m     \u001b[38;5;124m\"\u001b[39m\u001b[38;5;124m50 AT, two immediate mismatches melting temp (thermodynamic):    \u001b[39m\u001b[38;5;132;01m%0.2f\u001b[39;00m\u001b[38;5;124m °C\u001b[39m\u001b[38;5;124m\"\u001b[39m\n\u001b[0;32m---> 73\u001b[0m     \u001b[38;5;241m%\u001b[39m \u001b[43mmt\u001b[49m\u001b[38;5;241;43m.\u001b[39;49m\u001b[43mTm_NN\u001b[49m\u001b[43m(\u001b[49m\u001b[43mat_two_mismatch_1\u001b[49m\u001b[43m,\u001b[49m\u001b[43m \u001b[49m\u001b[43mc_seq\u001b[49m\u001b[38;5;241;43m=\u001b[39;49m\u001b[43mat_two_mismatch_2\u001b[49m\u001b[43m)\u001b[49m\n\u001b[1;32m     74\u001b[0m )\n",
      "File \u001b[0;32m/Library/Frameworks/Python.framework/Versions/3.12/lib/python3.12/site-packages/Bio/SeqUtils/MeltingTemp.py:1050\u001b[0m, in \u001b[0;36mTm_NN\u001b[0;34m(seq, check, strict, c_seq, shift, nn_table, tmm_table, imm_table, de_table, dnac1, dnac2, selfcomp, Na, K, Tris, Mg, dNTPs, saltcorr)\u001b[0m\n\u001b[1;32m   1047\u001b[0m         delta_s \u001b[38;5;241m+\u001b[39m\u001b[38;5;241m=\u001b[39m nn_table[neighbors[::\u001b[38;5;241m-\u001b[39m\u001b[38;5;241m1\u001b[39m]][d_s]\n\u001b[1;32m   1048\u001b[0m     \u001b[38;5;28;01melse\u001b[39;00m:\n\u001b[1;32m   1049\u001b[0m         \u001b[38;5;66;03m# We haven't found the key...\u001b[39;00m\n\u001b[0;32m-> 1050\u001b[0m         \u001b[43m_key_error\u001b[49m\u001b[43m(\u001b[49m\u001b[43mneighbors\u001b[49m\u001b[43m,\u001b[49m\u001b[43m \u001b[49m\u001b[43mstrict\u001b[49m\u001b[43m)\u001b[49m\n\u001b[1;32m   1052\u001b[0m k \u001b[38;5;241m=\u001b[39m (dnac1 \u001b[38;5;241m-\u001b[39m (dnac2 \u001b[38;5;241m/\u001b[39m \u001b[38;5;241m2.0\u001b[39m)) \u001b[38;5;241m*\u001b[39m \u001b[38;5;241m1e-9\u001b[39m\n\u001b[1;32m   1053\u001b[0m \u001b[38;5;28;01mif\u001b[39;00m selfcomp:\n",
      "File \u001b[0;32m/Library/Frameworks/Python.framework/Versions/3.12/lib/python3.12/site-packages/Bio/SeqUtils/MeltingTemp.py:823\u001b[0m, in \u001b[0;36m_key_error\u001b[0;34m(neighbors, strict)\u001b[0m\n\u001b[1;32m    821\u001b[0m \u001b[38;5;66;03m# We haven't found the key in the tables\u001b[39;00m\n\u001b[1;32m    822\u001b[0m \u001b[38;5;28;01mif\u001b[39;00m strict:\n\u001b[0;32m--> 823\u001b[0m     \u001b[38;5;28;01mraise\u001b[39;00m \u001b[38;5;167;01mValueError\u001b[39;00m(\u001b[38;5;124mf\u001b[39m\u001b[38;5;124m\"\u001b[39m\u001b[38;5;124mno thermodynamic data for neighbors \u001b[39m\u001b[38;5;132;01m{\u001b[39;00mneighbors\u001b[38;5;132;01m!r}\u001b[39;00m\u001b[38;5;124m available\u001b[39m\u001b[38;5;124m\"\u001b[39m)\n\u001b[1;32m    824\u001b[0m \u001b[38;5;28;01melse\u001b[39;00m:\n\u001b[1;32m    825\u001b[0m     warnings\u001b[38;5;241m.\u001b[39mwarn(\n\u001b[1;32m    826\u001b[0m         \u001b[38;5;124m\"\u001b[39m\u001b[38;5;124mno themodynamic data for neighbors \u001b[39m\u001b[38;5;132;01m%r\u001b[39;00m\u001b[38;5;124m available. \u001b[39m\u001b[38;5;124m\"\u001b[39m\n\u001b[1;32m    827\u001b[0m         \u001b[38;5;124m\"\u001b[39m\u001b[38;5;124mCalculation will be wrong\u001b[39m\u001b[38;5;124m\"\u001b[39m \u001b[38;5;241m%\u001b[39m neighbors,\n\u001b[1;32m    828\u001b[0m         BiopythonWarning,\n\u001b[1;32m    829\u001b[0m     )\n",
      "\u001b[0;31mValueError\u001b[0m: no thermodynamic data for neighbors 'AA/GG' available"
     ]
    }
   ],
   "source": [
    "# Sanity checking how MeltingTemp accounts for different mismatches and mismatch structures\n",
    "\n",
    "at_1 = \"AAAAAAAAAAAAAAAAAAAAAAAAAAAAAAAAAAAAAAAAAAAAAAAAAA\"\n",
    "at_2 = \"TTTTTTTTTTTTTTTTTTTTTTTTTTTTTTTTTTTTTTTTTTTTTTTTTT\"\n",
    "\n",
    "print(\"\\n50 AT melting temp: %0.2f °C\" % mt.Tm_NN(at_1, c_seq=at_2))\n",
    "\n",
    "gc_1 = \"GGGGGGGGGGGGGGGGGGGGGGGGGGGGGGGGGGGGGGGGGGGGGGGGGG\"\n",
    "gc_2 = \"CCCCCCCCCCCCCCCCCCCCCCCCCCCCCCCCCCCCCCCCCCCCCCCCCC\"\n",
    "\n",
    "print(\"\\n50 GC melting temp: %0.2f °C\" % mt.Tm_NN(gc_1, c_seq=gc_2))\n",
    "\n",
    "atgc_1 = \"AAAAAAAAAAAAAAAAAAAAAAAAAGGGGGGGGGGGGGGGGGGGGGGGGG\"\n",
    "atgc_2 = \"TTTTTTTTTTTTTTTTTTTTTTTTTCCCCCCCCCCCCCCCCCCCCCCCCC\"\n",
    "\n",
    "print(\"\\n25 AT then 25 GC melting temp: %0.2f °C\" % mt.Tm_NN(atgc_1, c_seq=atgc_2))\n",
    "\n",
    "print(\"---\")\n",
    "\n",
    "at_one_mismatch_1 = \"AAAAAAAAAAAAAAAAAAAAAAAAAAAAAAAAAAAAAAAAAAAAAAAAAA\"\n",
    "at_one_mismatch_2 = \"TTTTTTTTTTTTTTTTTTTTTTTTTTTTTTTGTTTTTTTTTTTTTTTTTT\"\n",
    "at_one_mismatch_x = \"AAAAAAAAAAAAAAAAAAAAAAAAAAAAAAAXAAAAAAAAAAAAAAAAAA\"\n",
    "\n",
    "print(\n",
    "    \"50 AT melting temp:                                              %0.2f °C\"\n",
    "    % mt.Tm_NN(at_1, c_seq=at_2)\n",
    ")\n",
    "print(\n",
    "    \"50 AT, one mismatch melting temp (GC heuristic):                 %0.2f °C\"\n",
    "    % mt.Tm_GC(at_one_mismatch_x, valueset=2)\n",
    ")\n",
    "print(\n",
    "    \"50 AT, one mismatch melting temp (thermodynamic):                %0.2f °C\"\n",
    "    % mt.Tm_NN(at_one_mismatch_1, c_seq=at_one_mismatch_2)\n",
    ")\n",
    "\n",
    "print(\"---\")\n",
    "\n",
    "at_two_mismatch_1 = \"AAAAAAAAAAAAAAAAAAAAAAAAAAAAAAAAAAAAAAAAAAAAAAAAAA\"\n",
    "at_two_mismatch_2 = \"TTTTTTTTTTTTTTTTTTTGTTTTTTTTTTTGTTTTTTTTTTTTTTTTTT\"\n",
    "at_two_mismatch_x = \"AAAAAAAAAAAAAAAAAAAXAAAAAAAAAAAXAAAAAAAAAAAAAAAAAA\"\n",
    "\n",
    "print(\n",
    "    \"50 AT melting temp:                                              %0.2f °C\"\n",
    "    % mt.Tm_NN(at_1, c_seq=at_2)\n",
    ")\n",
    "print(\n",
    "    \"50 AT, two separate mismatches melting temp (GC heuristic):      %0.2f °C\"\n",
    "    % mt.Tm_GC(at_two_mismatch_x, valueset=2)\n",
    ")\n",
    "print(\n",
    "    \"50 AT, two separate mismatches melting temp (thermodynamic):     %0.2f °C\"\n",
    "    % mt.Tm_NN(at_two_mismatch_1, c_seq=at_two_mismatch_2)\n",
    ")\n",
    "\n",
    "print(\"---\")\n",
    "\n",
    "# unfortunately, all the thermodynamic models don't allow for two mismatches directly next to each other\n",
    "at_two_mismatch_1 = \"AAAAAAAAAAAAAAAAAAAAAAAAAAAAAAAAAAAAAAAAAAAAAAAAAA\"\n",
    "at_two_mismatch_2 = \"TTTTTTTTTTTTTTTTTTTTTTTTTTTTTTGGTTTTTTTTTTTTTTTTTT\"\n",
    "at_two_mismatch_x = \"AAAAAAAAAAAAAAAAAAAAAAAAAAAAAAXXAAAAAAAAAAAAAAAAAA\"\n",
    "\n",
    "print(\n",
    "    \"50 AT melting temp:                                              %0.2f °C\"\n",
    "    % mt.Tm_NN(at_1, c_seq=at_2)\n",
    ")\n",
    "print(\n",
    "    \"50 AT, two immediate mismatches melting temp (GC heuristic):     %0.2f °C\"\n",
    "    % mt.Tm_GC(at_two_mismatch_x, valueset=2)\n",
    ")\n",
    "print(\n",
    "    \"50 AT, two immediate mismatches melting temp (thermodynamic):    %0.2f °C\"\n",
    "    % mt.Tm_NN(at_two_mismatch_1, c_seq=at_two_mismatch_2)\n",
    ")"
   ]
  }
 ],
 "metadata": {
  "kernelspec": {
   "display_name": "Python 3",
   "language": "python",
   "name": "python3"
  },
  "language_info": {
   "codemirror_mode": {
    "name": "ipython",
    "version": 3
   },
   "file_extension": ".py",
   "mimetype": "text/x-python",
   "name": "python",
   "nbconvert_exporter": "python",
   "pygments_lexer": "ipython3",
   "version": "3.12.2"
  }
 },
 "nbformat": 4,
 "nbformat_minor": 2
}
